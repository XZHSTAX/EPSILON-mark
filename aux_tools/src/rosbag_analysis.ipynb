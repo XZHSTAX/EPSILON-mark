{
 "cells": [
  {
   "cell_type": "code",
   "execution_count": 1,
   "metadata": {},
   "outputs": [],
   "source": [
    "import rosbag\n",
    "import matplotlib.pyplot as plt\n",
    "import numpy as np\n",
    "from ipywidgets import interact, IntSlider\n",
    "import ipywidgets as widgets"
   ]
  },
  {
   "cell_type": "markdown",
   "metadata": {},
   "source": [
    "读取bag文件中的数据，并把数据保存到列表中"
   ]
  },
  {
   "cell_type": "code",
   "execution_count": 2,
   "metadata": {},
   "outputs": [
    {
     "name": "stdout",
     "output_type": "stream",
     "text": [
      "TypesAndTopicsTuple(msg_types={'vehicle_msgs/BehaviorString': '556d65a784e9d97c771304fd472b8e34', 'vehicle_msgs/ForwardTrajsRecord': '9eb8e2e3dc73c046a31c0fe2d9981308', 'vehicle_msgs/Vehicle': '0372a2fa6275905a037fbc1ca20c1ad6', 'visualization_msgs/MarkerArray': 'd155b9ce5188fbaf89745847fd5882d7'}, topics={'/record/agent_0/ego_behavior_vis': TopicTuple(msg_type='vehicle_msgs/BehaviorString', message_count=373, connections=1, frequency=19.936136738486695), '/record/agent_0/ego_vehicle_status': TopicTuple(msg_type='vehicle_msgs/Vehicle', message_count=373, connections=1, frequency=19.967123757203282), '/record/agent_0/forward_trajs': TopicTuple(msg_type='vehicle_msgs/ForwardTrajsRecord', message_count=373, connections=1, frequency=19.940591423409717), '/vis/agent_0/local_lanes_vis': TopicTuple(msg_type='visualization_msgs/MarkerArray', message_count=373, connections=1, frequency=19.95657831818301)})\n"
     ]
    }
   ],
   "source": [
    "bag_file = '/home/xzh/ros1/BPws/my_bag.bag'\n",
    "bag_data = rosbag.Bag(bag_file, \"r\")\n",
    "\n",
    "info = bag_data.get_type_and_topic_info()\n",
    "print(info)\n",
    "\n",
    "topic_name1 = \"/record/agent_0/ego_behavior_vis\"\n",
    "topic_name2 = \"/record/agent_0/ego_vehicle_status\"\n",
    "topic_name3 = \"/record/agent_0/forward_trajs\"\n",
    "topic_name4 = \"/vis/agent_0/local_lanes_vis\"\n",
    "\n",
    "# 记录每个时间步的behavior\n",
    "behavior_record = []\n",
    "behavior_record_time = []\n",
    "perception_data = bag_data.read_messages(topic_name1)\n",
    "for topic, msg, t in perception_data:\n",
    "    if msg is not None:\n",
    "        behavior_record.append(msg.Behavior)\n",
    "        behavior_record_time.append(t)\n",
    "\n",
    "# 记录每个时间步的车辆状态，包括位置和其他的一些信息\n",
    "ego_vehicle_position = []\n",
    "ego_vehicle_status = [] # 0 angle,1 curvature,2 velocity,3 acceleration,4 steer\n",
    "perception_data = bag_data.read_messages(topic_name2)\n",
    "for topic, msg, t in perception_data:\n",
    "    if msg is not None:\n",
    "        ego_vehicle_position.append([msg.state.vec_position.x,msg.state.vec_position.y])\n",
    "        ego_vehicle_status.append([msg.state.angle,msg.state.curvature,msg.state.velocity,msg.state.acceleration,msg.state.steer])\n",
    "\n",
    "# 记录每个时间步所模拟的所有轨迹\n",
    "forward_trajs_record = [] # 记录所有时刻的所有轨迹\n",
    "perception_data = bag_data.read_messages(topic_name3)\n",
    "for topic, msg, t in perception_data:\n",
    "    if msg is not None:\n",
    "        current_time_trajs = [] # 记录该时刻的所有轨迹\n",
    "        # 遍历该时刻的每一条轨迹\n",
    "        for traj in msg.forward_trajs_record:\n",
    "            tra_record = [] # 记录该条轨迹上的所有点\n",
    "            # 遍历该轨迹上的每一个点\n",
    "            for point in traj.forward_trajs:\n",
    "                tra_record.append([point.x, point.y])\n",
    "            current_time_trajs.append(tra_record)\n",
    "        forward_trajs_record.append(current_time_trajs)\n",
    "\n",
    "Local_lanes_record = []\n",
    "perception_data = bag_data.read_messages(topic_name4)\n",
    "for topic, msg, t in perception_data:\n",
    "    if msg is not None:\n",
    "        Local_lanes_record_current = []\n",
    "        for lane in msg.markers:\n",
    "            Local_lane = []\n",
    "            for point in lane.points:\n",
    "                Local_lane.append([point.x, point.y])\n",
    "            Local_lanes_record_current.append(Local_lane)\n",
    "        Local_lanes_record.append(Local_lanes_record_current)\n",
    "        \n",
    "bag_data.close()"
   ]
  },
  {
   "cell_type": "markdown",
   "metadata": {},
   "source": [
    "绘图函数——绘制车道"
   ]
  },
  {
   "cell_type": "code",
   "execution_count": 11,
   "metadata": {},
   "outputs": [],
   "source": [
    "# 定义绘图函数\n",
    "def plot_local_lanes(time_step):\n",
    "    lanes = Local_lanes_record[time_step]\n",
    "    for lane in lanes:\n",
    "        lane = np.array(lane)\n",
    "        if(lane.ndim != 2):\n",
    "            print(\"lane shape is not 2,continue\")\n",
    "            continue\n",
    "        plt.plot(lane[:, 0], lane[:, 1])\n",
    "    plt.grid(True)\n",
    "    plt.show()"
   ]
  },
  {
   "cell_type": "markdown",
   "metadata": {},
   "source": [
    "车道线计算"
   ]
  },
  {
   "cell_type": "code",
   "execution_count": 35,
   "metadata": {},
   "outputs": [],
   "source": [
    "def compute_normals(trajectory):\n",
    "    # 计算法向量\n",
    "    delta = np.diff(trajectory, axis=0)\n",
    "    normals = np.zeros_like(delta)\n",
    "    normals[:, 0] = -delta[:, 1]\n",
    "    normals[:, 1] = delta[:, 0]\n",
    "    \n",
    "    # 归一化法向量\n",
    "    norms = np.linalg.norm(normals, axis=1)\n",
    "    normals = normals / norms[:, np.newaxis]\n",
    "    \n",
    "    # 在起点和终点添加法向量（简单复制第一个和最后一个法向量）\n",
    "    normals = np.vstack([normals, normals[-1]])\n",
    "    \n",
    "    return normals\n",
    "\n",
    "def generate_lane_boundaries(trajectory, lane_width):\n",
    "    # 计算法向量\n",
    "    normals = compute_normals(trajectory)\n",
    "    \n",
    "    # 计算左边和右边的边界点\n",
    "    left_boundary = trajectory + lane_width / 2 * normals\n",
    "    right_boundary = trajectory - lane_width / 2 * normals\n",
    "    \n",
    "    return left_boundary, right_boundary"
   ]
  },
  {
   "cell_type": "markdown",
   "metadata": {},
   "source": [
    "绘制长方形来代表车辆位置"
   ]
  },
  {
   "cell_type": "code",
   "execution_count": 47,
   "metadata": {},
   "outputs": [],
   "source": [
    "def rotate_point(point, angle, center):\n",
    "    # 将点绕中心旋转一定角度\n",
    "    angle_rad = np.deg2rad(angle)\n",
    "    rotation_matrix = np.array([\n",
    "        [np.cos(angle_rad), -np.sin(angle_rad)],\n",
    "        [np.sin(angle_rad), np.cos(angle_rad)]\n",
    "    ])\n",
    "    rotated_point = rotation_matrix.dot(point - center) + center\n",
    "    return rotated_point\n",
    "\n",
    "def get_rectangle_points(center, angle, length=4.88, width=1.9):\n",
    "    # 计算未旋转的长方形的四个顶点相对于中心点的坐标\n",
    "    half_length = length / 2\n",
    "    half_width = width / 2\n",
    "    points = np.array([\n",
    "        [-half_length, -half_width],\n",
    "        [half_length, -half_width],\n",
    "        [half_length, half_width],\n",
    "        [-half_length, half_width]\n",
    "    ])\n",
    "\n",
    "        # 旋转每个点\n",
    "    rotated_points = np.array([rotate_point(point, angle, [0, 0]) for point in points])\n",
    "    \n",
    "    # 将旋转后的点平移到中心点\n",
    "    rotated_points += center\n",
    "    \n",
    "    return rotated_points\n",
    "\n",
    "def plot_rectangle(center, angle, length=4.88, width=1.9):\n",
    "    # angle 是以度为单位的，当 angle = 0 时，长方形的长边平行于 x 轴\n",
    "    # angle > 0 时，长方形绕中心点逆时针旋转指定的角度\n",
    "    # 获取长方形的四个顶点\n",
    "    rectangle_points = get_rectangle_points(center,angle,length,width)\n",
    "    \n",
    "    # 闭合长方形\n",
    "    rectangle_points = np.vstack([rectangle_points, rectangle_points[0]])\n",
    "\n",
    "    return rectangle_points"
   ]
  },
  {
   "cell_type": "markdown",
   "metadata": {},
   "source": [
    "绘图函数——绘制车道线和中心线，绘制车辆，并且根据车辆位置缩放"
   ]
  },
  {
   "cell_type": "code",
   "execution_count": 67,
   "metadata": {},
   "outputs": [],
   "source": [
    "# 定义绘图函数\n",
    "def plot_local_lanes2(time_step):\n",
    "    lanes = Local_lanes_record[time_step]\n",
    "    vehicle_position = ego_vehicle_position[time_step]\n",
    "    vehicle_status = ego_vehicle_status[time_step]\n",
    "    # 绘制车道\n",
    "    for lane in lanes:\n",
    "        lane = np.array(lane)\n",
    "        if(lane.ndim != 2):\n",
    "            # print(\"lane shape is not 2,continue\")\n",
    "            continue\n",
    "        plt.plot(lane[:, 0], lane[:, 1],color='grey',linestyle = '--',linewidth = 0.5)\n",
    "        left_boundary, right_boundary = generate_lane_boundaries(lane, 3.5)\n",
    "        plt.plot(left_boundary[:, 0], left_boundary[:, 1],color='grey',linewidth = 0.5)\n",
    "        plt.plot(right_boundary[:, 0], right_boundary[:, 1],color='grey',linewidth = 0.5)\n",
    "    # 绘制车辆位置\n",
    "    rectangle_points = plot_rectangle(vehicle_position, np.degrees(vehicle_status[0]))\n",
    "    plt.fill(rectangle_points[:, 0], rectangle_points[:, 1],color='blue')\n",
    "    \n",
    "    window_size = 10\n",
    "    plt.xlim(vehicle_position[0]-window_size, vehicle_position[0]+window_size)  # 限制 x 轴范围\n",
    "    plt.ylim(vehicle_position[1]-window_size, vehicle_position[1]+window_size)  # 限制 y 轴范围\n",
    "    plt.show()"
   ]
  },
  {
   "cell_type": "code",
   "execution_count": null,
   "metadata": {},
   "outputs": [],
   "source": [
    "plot_local_lanes2(370)"
   ]
  },
  {
   "cell_type": "markdown",
   "metadata": {},
   "source": [
    "绘图函数3——在2的基础上，绘制车辆的前向模拟轨迹"
   ]
  },
  {
   "cell_type": "code",
   "execution_count": 95,
   "metadata": {},
   "outputs": [],
   "source": [
    "# 定义绘图函数\n",
    "def plot_local_lanes3(time_step):\n",
    "    lanes = Local_lanes_record[time_step]\n",
    "    vehicle_position = ego_vehicle_position[time_step]\n",
    "    vehicle_status = ego_vehicle_status[time_step]\n",
    "    forward_trajs = forward_trajs_record[time_step]\n",
    "    # 绘制车道\n",
    "    for lane in lanes:\n",
    "        lane = np.array(lane)\n",
    "        if(lane.ndim != 2):\n",
    "            # print(\"lane shape is not 2,continue\")\n",
    "            continue\n",
    "        # plt.plot(lane[:, 0], lane[:, 1],color='grey',linestyle = '--',linewidth = 0.5)\n",
    "        left_boundary, right_boundary = generate_lane_boundaries(lane, 3.5)\n",
    "        plt.plot(left_boundary[:, 0], left_boundary[:, 1],color='black',linewidth = 1)\n",
    "        plt.plot(right_boundary[:, 0], right_boundary[:, 1],color='black',linewidth = 1)\n",
    "    # 绘制车辆位置\n",
    "    rectangle_points = plot_rectangle(vehicle_position, np.degrees(vehicle_status[0]))\n",
    "    plt.fill(rectangle_points[:, 0], rectangle_points[:, 1],color='blue')\n",
    "\n",
    "    for traj in forward_trajs:\n",
    "        traj = np.array(traj)\n",
    "        if(traj.ndim != 2):\n",
    "            # print(\"traj shape is not 2,continue\")\n",
    "            continue        \n",
    "        plt.plot(traj[:, 0], traj[:, 1],color='red',linestyle = '-',linewidth = 0.5)\n",
    "    \n",
    "    window_size = 40\n",
    "    plt.xlim(vehicle_position[0]-window_size+20, vehicle_position[0]+window_size+20)  # 限制 x 轴范围\n",
    "    plt.ylim(vehicle_position[1]-window_size, vehicle_position[1]+window_size)  # 限制 y 轴范围\n",
    "    plt.show()"
   ]
  },
  {
   "cell_type": "code",
   "execution_count": 96,
   "metadata": {},
   "outputs": [
    {
     "data": {
      "application/vnd.jupyter.widget-view+json": {
       "model_id": "cbc43a12e47d4d959942a8fd0c62d320",
       "version_major": 2,
       "version_minor": 0
      },
      "text/plain": [
       "interactive(children=(IntSlider(value=0, description='time_step: ', max=372), Output()), _dom_classes=('widget…"
      ]
     },
     "metadata": {},
     "output_type": "display_data"
    },
    {
     "data": {
      "text/plain": [
       "<function __main__.plot_local_lanes3(time_step)>"
      ]
     },
     "execution_count": 96,
     "metadata": {},
     "output_type": "execute_result"
    }
   ],
   "source": [
    "# 创建频率滑动条\n",
    "time_step_slider = IntSlider(value=0, min=0, max=len(Local_lanes_record)-1, step=1, description='time_step: ')\n",
    "\n",
    "# 使用 interact 创建交互式绘图\n",
    "interact(plot_local_lanes3, time_step=time_step_slider)"
   ]
  },
  {
   "cell_type": "code",
   "execution_count": null,
   "metadata": {},
   "outputs": [],
   "source": []
  }
 ],
 "metadata": {
  "kernelspec": {
   "display_name": "rosbag_analysis",
   "language": "python",
   "name": "python3"
  },
  "language_info": {
   "codemirror_mode": {
    "name": "ipython",
    "version": 3
   },
   "file_extension": ".py",
   "mimetype": "text/x-python",
   "name": "python",
   "nbconvert_exporter": "python",
   "pygments_lexer": "ipython3",
   "version": "3.8.19"
  }
 },
 "nbformat": 4,
 "nbformat_minor": 2
}
